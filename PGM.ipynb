{
 "cells": [
  {
   "cell_type": "code",
   "execution_count": 1,
   "metadata": {},
   "outputs": [],
   "source": [
    "import numpy as np\n",
    "import csv\n",
    "import math\n",
    "import pandas as pd\n",
    "from pgmpy.estimators import K2Score\n",
    "import pandas as pd\n",
    "from pgmpy.estimators import K2Score\n",
    "from pgmpy.models import BayesianModel\n",
    "tab = [] \n",
    "with open('Table2.csv', 'r') as t2:\n",
    "    reader = csv.reader(t2)\n",
    "    for row1 in reader:\n",
    "        dataRow = []\n",
    "        for column1 in row1:\n",
    "            dataRow.append(column1)\n",
    "        tab.append(dataRow) \n",
    "table2=np.asarray((tab))\n",
    "table2=np.delete(table2,0,0)\n",
    "table2=np.delete(table2,0,1)\n",
    "table2[table2=='']='0'  # Converting empty string to 0\n",
    "for i in range(len(table2)):\n",
    "    for j in range(len(table2[0])):\n",
    "        s=table2[i][j].split('%')\n",
    "        x=float(s[0])\n",
    "        table2[i][j]=(x*0.01)\n",
    "#print(\"table2\")\n",
    "#print(table2)\n",
    "t2=np.delete(table2,0,0)\n",
    "t2=np.delete(t2,0,1)\n",
    "tab2=np.reshape(t2, (1,np.product(t2.shape)))\n",
    "tab = [] \n",
    "with open('Table3.csv', 'r') as t2:\n",
    "    reader = csv.reader(t2)\n",
    "    for row1 in reader:\n",
    "        dataRow = []\n",
    "        for column1 in row1:\n",
    "            dataRow.append(column1)\n",
    "        tab.append(dataRow)\n",
    "table3=np.asarray((tab))\n",
    "table3[table3=='']='0'  # Converting empty string to 0\n",
    "for i in range(1,len(table3)):\n",
    "    for j in range(1,len(table3[0])):\n",
    "        s=table3[i][j].split('%')\n",
    "        x=float(s[0])\n",
    "        table3[i][j]=(x*0.01)\n",
    "#print(\"table3\")\n",
    "#print(table3)\n",
    "t3=np.delete(table3,0,0)\n",
    "t3=np.delete(t3,0,0)\n",
    "t3=np.delete(t3,0,1)\n",
    "tab3=np.reshape(t3, (1,np.product(t3.shape)))\n",
    "tab = [] \n",
    "with open('Table4.csv', 'r') as t2:\n",
    "    reader = csv.reader(t2)\n",
    "    for row1 in reader:\n",
    "        dataRow = []\n",
    "        for column1 in row1:\n",
    "            dataRow.append(column1)\n",
    "        tab.append(dataRow) \n",
    "table4=np.asarray((tab))\n",
    "table4[table4=='']='0'  # Converting empty string to 0\n",
    "for i in range(1,len(table4)):\n",
    "    for j in range(1,len(table4[0])):\n",
    "        s=table4[i][j].split('%')\n",
    "        x=float(s[0])\n",
    "        table4[i][j]=(x*0.01)\n",
    "#print(\"table4\")\n",
    "#print(table4) \n",
    "t4=np.delete(table4,0,0)\n",
    "t4=np.delete(t4,0,1)\n",
    "tab4=np.reshape(t4, (1,np.product(t4.shape)))\n",
    "tab = [] \n",
    "with open('Table5.csv', 'r') as t2:\n",
    "    reader = csv.reader(t2)\n",
    "    for row1 in reader:\n",
    "        dataRow = []\n",
    "        for column1 in row1:\n",
    "            dataRow.append(column1)\n",
    "        tab.append(dataRow) \n",
    "table5=np.asarray((tab))\n",
    "table5[table5=='']='0'  # Converting empty string to 0\n",
    "for i in range(1,len(table5)):\n",
    "    for j in range(1,len(table5[0])):\n",
    "        s=table5[i][j].split('%')\n",
    "        x=float(s[0])\n",
    "        table5[i][j]=(x*0.01)\n",
    "#print(\"table5\")\n",
    "#print(table5)\n",
    "t5=np.delete(table5,0,0)\n",
    "t5=np.delete(t5,0,1)\n",
    "tab5=np.reshape(t5, (1,np.product(t5.shape)))\n",
    "tab = [] \n",
    "with open('Table6.csv', 'r') as t2:\n",
    "    reader = csv.reader(t2)\n",
    "    for row1 in reader:\n",
    "        dataRow = []\n",
    "        for column1 in row1:\n",
    "            dataRow.append(column1)\n",
    "        tab.append(dataRow) \n",
    "table6=np.asarray((tab))\n",
    "table2[table2=='']='0'  # Converting empty string to 0\n",
    "for i in range(1,len(table6)):\n",
    "    for j in range(1,len(table6[0])):\n",
    "        s=table6[i][j].split('%')\n",
    "        x=float(s[0])\n",
    "        table6[i][j]=(x*0.01)\n",
    "#print(\"table6\")\n",
    "#print(table6)   \n",
    "t6=np.delete(table6,0,0)\n",
    "t6=np.delete(t6,0,1)\n",
    "tab6=np.reshape(t6, (1,np.product(t6.shape)))\n",
    "tab = [] \n",
    "with open('Table7.csv', 'r') as t2:\n",
    "    reader = csv.reader(t2)\n",
    "    for row1 in reader:\n",
    "        dataRow = []\n",
    "        for column1 in row1:\n",
    "            dataRow.append(column1)\n",
    "        tab.append(dataRow) \n",
    "table7=np.asarray((tab))\n",
    "table7[table7=='']='0'  # Converting empty string to 0\n",
    "for i in range(1,len(table7)):\n",
    "    for j in range(1,len(table7[0])):\n",
    "        s=table7[i][j].split('%')\n",
    "        x=float(s[0])\n",
    "        table7[i][j]=(x*0.01)\n",
    "#print(\"table7\")\n",
    "#print(table7)\n",
    "t7=np.delete(table7,0,0)\n",
    "t7=np.delete(t7,0,1)\n",
    "tab7=np.reshape(t7, (1,np.product(t7.shape)))\n",
    "tab = [] \n",
    "with open('Table8.csv', 'r') as t2:\n",
    "    reader = csv.reader(t2)\n",
    "    for row1 in reader:\n",
    "        dataRow = []\n",
    "        for column1 in row1:\n",
    "            dataRow.append(column1)\n",
    "        tab.append(dataRow) \n",
    "table8=np.asarray((tab))\n",
    "table8[table8=='']='0'  # Converting empty string to 0\n",
    "for i in range(1,len(table8)):\n",
    "    for j in range(1,len(table8[0])):\n",
    "        s=table8[i][j].split('%')\n",
    "        x=float(s[0])\n",
    "        table8[i][j]=(x*0.01)\n",
    "#print(\"table8\")\n",
    "#print(table8)\n",
    "t8=np.delete(table8,0,0)\n",
    "t8=np.delete(t8,0,1)\n",
    "tab8=np.reshape(t8, (1,np.product(t8.shape)))"
   ]
  },
  {
   "cell_type": "code",
   "execution_count": 2,
   "metadata": {},
   "outputs": [],
   "source": [
    "# GETTING THE MARGINAL PROB AND STORING \n",
    "x1=table2[:,0]\n",
    "x2=table2[:,1]\n",
    "x3=table2[:,2]\n",
    "x4=table2[:,3]\n",
    "x5=table2[:,4]\n",
    "x6=table2[:,5]\n"
   ]
  },
  {
   "cell_type": "code",
   "execution_count": 3,
   "metadata": {},
   "outputs": [
    {
     "name": "stdout",
     "output_type": "stream",
     "text": [
      "[['0.231' '0.6659999999999999' '0.455' '0.4']\n",
      " ['0.365' '0.0' '0.091' '0.2']\n",
      " ['0.026000000000000002' '0.0' '0.0' '0.033']\n",
      " ['0.17300000000000001' '0.0' '0.182' '0.167']\n",
      " ['0.20500000000000002' '0.33299999999999996' '0.273' '0.2']]\n",
      "<class 'numpy.ndarray'>\n"
     ]
    }
   ],
   "source": [
    "# SPEATARING THE TABLES ACC TO CONDITIONAL PROB\n",
    "t21=[[0 for row in range(0,5)] for col in range(0,4)]\n",
    "tt21=[]\n",
    "for i in range (2,7):\n",
    "    tt21.append(table3[i])\n",
    "tt21=np.array(tt21)\n",
    "tt21=np.delete(tt21,0,1)\n",
    "print(tt21)\n",
    "t21=[[0 for row in range(len(tt21[0]))] for col in range(len(tt21))]\n",
    "for i in range(len(t21)):\n",
    "    for j in range(len(t21[0])):\n",
    "        t21[i][j]=float(tt21[i][j])\n",
    "t21=np.array(t21)\n",
    "print(type(t21))"
   ]
  },
  {
   "cell_type": "code",
   "execution_count": 4,
   "metadata": {},
   "outputs": [
    {
     "name": "stdout",
     "output_type": "stream",
     "text": [
      "0.15976999999999997\n"
     ]
    }
   ],
   "source": [
    "v21=0\n",
    "for i in range(len(tt21)):\n",
    "    for j in range(len(tt21[0])):\n",
    "        v21=v21+abs(((float(tt21[i][j])-float(x2[i]))*float(x1[j])))\n",
    "        #print(t21[i][j],x2[i],x1[j])\n",
    "print(v21)"
   ]
  },
  {
   "cell_type": "code",
   "execution_count": 5,
   "metadata": {},
   "outputs": [
    {
     "name": "stdout",
     "output_type": "stream",
     "text": [
      "[['0.737' '1.0' '0.7270000000000001' '0.5670000000000001']\n",
      " ['0.077' '0.0' '0.273' '0.2']\n",
      " ['0.013000000000000001' '0.0' '0.0' '0.0']\n",
      " ['0.17300000000000001' '0.0' '0.0' '0.233']]\n",
      "<class 'numpy.ndarray'>\n"
     ]
    }
   ],
   "source": [
    "tt41=[]\n",
    "for i in range (7,11):\n",
    "    tt41.append(table3[i])\n",
    "tt41=np.array(tt41)\n",
    "tt41=np.delete(tt41,0,1)\n",
    "print(tt41)\n",
    "t41=[[0 for row in range(len(tt41[0]))] for col in range(len(tt41))]\n",
    "for i in range(len(t41)):\n",
    "    for j in range(len(t41[0])):\n",
    "        t41[i][j]=float(tt41[i][j])\n",
    "t41=np.array(t41)\n",
    "print(type(t41))"
   ]
  },
  {
   "cell_type": "code",
   "execution_count": 6,
   "metadata": {},
   "outputs": [
    {
     "name": "stdout",
     "output_type": "stream",
     "text": [
      "0.11943\n"
     ]
    }
   ],
   "source": [
    "v41=0\n",
    "for i in range(len(tt41)):\n",
    "    for j in range(len(tt41[0])):\n",
    "        v41=v41+abs(((float(tt41[i][j])-float(x4[i]))*float(x1[j])))\n",
    "        #print(t41[i][j],x4[i],x1[j])\n",
    "print(v41)"
   ]
  },
  {
   "cell_type": "code",
   "execution_count": 7,
   "metadata": {},
   "outputs": [
    {
     "name": "stdout",
     "output_type": "stream",
     "text": [
      "[['0.019' '0.0' '0.0' '0.0']\n",
      " ['0.282' '0.6659999999999999' '0.545' '0.4']\n",
      " ['0.128' '0.33299999999999996' '0.091' '0.2']\n",
      " ['0.35200000000000004' '0.0' '0.182' '0.2']\n",
      " ['0.218' '0.0' '0.182' '0.2']]\n",
      "<class 'numpy.ndarray'>\n"
     ]
    }
   ],
   "source": [
    "tt61=[]\n",
    "for i in range (11,16):\n",
    "    tt61.append(table3[i])\n",
    "tt61=np.array(tt61)\n",
    "tt61=np.delete(tt61,0,1)\n",
    "print(tt61)\n",
    "t61=[[0 for row in range(len(tt61[0]))] for col in range(len(tt61))]\n",
    "for i in range(len(t61)):\n",
    "    for j in range(len(t61[0])):\n",
    "        t61[i][j]=float(tt61[i][j])\n",
    "t61=np.array(t61)\n",
    "print(type(t61))"
   ]
  },
  {
   "cell_type": "code",
   "execution_count": 8,
   "metadata": {},
   "outputs": [
    {
     "name": "stdout",
     "output_type": "stream",
     "text": [
      "0.16015500000000002\n"
     ]
    }
   ],
   "source": [
    "v61=0\n",
    "for i in range(len(tt61)):\n",
    "    for j in range(len(tt61[0])):\n",
    "        v61=v61+abs(((float(tt61[i][j])-float(x6[i]))*float(x1[j])))\n",
    "        #print(t61[i][j],x6[i],x1[j])\n",
    "print(v61)"
   ]
  },
  {
   "cell_type": "code",
   "execution_count": 9,
   "metadata": {},
   "outputs": [
    {
     "name": "stdout",
     "output_type": "stream",
     "text": [
      "[['0.127' '0.266' '0.2' '0.17600000000000002' '0.11900000000000001']\n",
      " ['0.745' '0.6559999999999999' '0.8' '0.706' '0.5']\n",
      " ['0.127' '0.078' '0.0' '0.11800000000000001' '0.381']]\n",
      "<class 'numpy.ndarray'>\n"
     ]
    }
   ],
   "source": [
    "tt32=[]\n",
    "for i in range (2,5):\n",
    "    tt32.append(table4[i])\n",
    "tt32=np.array(tt32)\n",
    "tt32=np.delete(tt32,0,1)\n",
    "print(tt32)\n",
    "t32=[[0 for row in range(len(tt32[0]))] for col in range(len(tt32))]\n",
    "for i in range(len(t32)):\n",
    "    for j in range(len(t32[0])):\n",
    "        t32[i][j]=float(tt32[i][j])\n",
    "t32=np.array(t32)\n",
    "print(type(t32))"
   ]
  },
  {
   "cell_type": "code",
   "execution_count": 10,
   "metadata": {},
   "outputs": [
    {
     "name": "stdout",
     "output_type": "stream",
     "text": [
      "0.21852500000000005\n"
     ]
    }
   ],
   "source": [
    "v32=0\n",
    "for i in range(len(tt32)):\n",
    "    for j in range(len(tt32[0])):\n",
    "        v32=v32+abs(((float(tt32[i][j])-float(x3[i]))*float(x2[j])))\n",
    "        #print(t32[i][j],x3[i],x2[j])\n",
    "print(v32)"
   ]
  },
  {
   "cell_type": "code",
   "execution_count": 11,
   "metadata": {},
   "outputs": [
    {
     "name": "stdout",
     "output_type": "stream",
     "text": [
      "[['0.418' '0.344' '0.6' '0.38200000000000006' '0.334']\n",
      " ['0.073' '0.109' '0.4' '0.147' '0.095']\n",
      " ['0.109' '0.125' '0.0' '0.11800000000000001' '0.071']\n",
      " ['0.4' '0.42200000000000004' '0.0' '0.353' '0.5']]\n",
      "<class 'numpy.ndarray'>\n"
     ]
    }
   ],
   "source": [
    "tt52=[]\n",
    "for i in range (5,9):\n",
    "    tt52.append(table4[i])\n",
    "tt52=np.array(tt52)\n",
    "tt52=np.delete(tt52,0,1)\n",
    "print(tt52)\n",
    "t52=[[0 for row in range(len(tt52[0]))] for col in range(len(tt52))]\n",
    "for i in range(len(t52)):\n",
    "    for j in range(len(t52[0])):\n",
    "        t52[i][j]=float(tt52[i][j])\n",
    "t52=np.array(t52)\n",
    "print(type(t52))"
   ]
  },
  {
   "cell_type": "code",
   "execution_count": 12,
   "metadata": {},
   "outputs": [
    {
     "name": "stdout",
     "output_type": "stream",
     "text": [
      "0.12926000000000004\n"
     ]
    }
   ],
   "source": [
    "v52=0\n",
    "for i in range(len(tt52)):\n",
    "    for j in range(len(tt52[0])):\n",
    "        v52=v52+abs(((float(tt52[i][j])-float(x5[i]))*float(x2[j])))\n",
    "        #print(t52[i][j],x5[i],x2[j])\n",
    "print(v52)"
   ]
  },
  {
   "cell_type": "code",
   "execution_count": 13,
   "metadata": {},
   "outputs": [
    {
     "name": "stdout",
     "output_type": "stream",
     "text": [
      "[['0.19399999999999998' '0.311' '0.219']\n",
      " ['0.47200000000000003' '0.318' '0.156']\n",
      " ['0.027999999999999997' '0.030299999999999997' '0.0']\n",
      " ['0.167' '0.182' '0.125']\n",
      " ['0.139' '0.159' '0.5']]\n",
      "<class 'numpy.ndarray'>\n"
     ]
    }
   ],
   "source": [
    "tt23=[]\n",
    "for i in range (2,7):\n",
    "    tt23.append(table5[i])\n",
    "tt23=np.array(tt23)\n",
    "tt23=np.delete(tt23,0,1)\n",
    "print(tt23)\n",
    "t23=[[0 for row in range(len(tt23[0]))] for col in range(len(tt23))]\n",
    "for i in range(len(t23)):\n",
    "    for j in range(len(t23[0])):\n",
    "        t23[i][j]=float(tt23[i][j])\n",
    "t23=np.array(t23)\n",
    "print(type(t23))"
   ]
  },
  {
   "cell_type": "code",
   "execution_count": 14,
   "metadata": {},
   "outputs": [
    {
     "name": "stdout",
     "output_type": "stream",
     "text": [
      "0.21875799999999998\n"
     ]
    }
   ],
   "source": [
    "v23=0\n",
    "for i in range(len(tt23)):\n",
    "    for j in range(len(tt23[0])):\n",
    "        v23=v23+abs(((float(tt23[i][j])-float(x2[i]))*float(x3[j])))\n",
    "        #print(t23[i][j],x2[i],x3[j])\n",
    "print(v23)"
   ]
  },
  {
   "cell_type": "code",
   "execution_count": 15,
   "metadata": {},
   "outputs": [
    {
     "name": "stdout",
     "output_type": "stream",
     "text": [
      "[['0.36100000000000004' '0.394' '0.313']\n",
      " ['0.083' '0.114' '0.125']\n",
      " ['0.222' '0.091' '0.031000000000000003']\n",
      " ['0.33299999999999996' '0.402' '0.531']]\n",
      "<class 'numpy.ndarray'>\n"
     ]
    }
   ],
   "source": [
    "tt53=[]\n",
    "for i in range (7,11):\n",
    "    tt53.append(table5[i])\n",
    "tt53=np.array(tt53)\n",
    "tt53=np.delete(tt53,0,1)\n",
    "print(tt53)\n",
    "t53=[[0 for row in range(len(tt53[0]))] for col in range(len(tt53))]\n",
    "for i in range(len(t53)):\n",
    "    for j in range(len(t53[0])):\n",
    "        t53[i][j]=float(tt53[i][j])\n",
    "t53=np.array(t53)\n",
    "print(type(t53))"
   ]
  },
  {
   "cell_type": "code",
   "execution_count": 16,
   "metadata": {},
   "outputs": [
    {
     "name": "stdout",
     "output_type": "stream",
     "text": [
      "0.11552000000000003\n"
     ]
    }
   ],
   "source": [
    "v53=0\n",
    "for i in range(len(tt53)):\n",
    "    for j in range(len(tt53[0])):\n",
    "        v53=v53+abs(((float(tt53[i][j])-float(x5[i]))*float(x3[j])))\n",
    "        #print(t53[i][j],x5[i],x3[j])\n",
    "print(v53)"
   ]
  },
  {
   "cell_type": "code",
   "execution_count": 17,
   "metadata": {},
   "outputs": [
    {
     "name": "stdout",
     "output_type": "stream",
     "text": [
      "[['0.0' '0.023' '0.0']\n",
      " ['0.389' '0.318' '0.25']\n",
      " ['0.083' '0.152' '0.156']\n",
      " ['0.36100000000000004' '0.303' '0.313']\n",
      " ['0.167' '0.20500000000000002' '0.281']]\n",
      "<class 'numpy.ndarray'>\n"
     ]
    }
   ],
   "source": [
    "tt63=[]\n",
    "for i in range (11,16):\n",
    "    tt63.append(table5[i])\n",
    "tt63=np.array(tt63)\n",
    "tt63=np.delete(tt63,0,1)\n",
    "print(tt63)\n",
    "t63=[[0 for row in range(len(tt63[0]))] for col in range(len(tt63))]\n",
    "for i in range(len(t63)):\n",
    "    for j in range(len(t63[0])):\n",
    "        t63[i][j]=float(tt63[i][j])\n",
    "t63=np.array(t63)\n",
    "print(type(t63))"
   ]
  },
  {
   "cell_type": "code",
   "execution_count": 18,
   "metadata": {},
   "outputs": [
    {
     "name": "stdout",
     "output_type": "stream",
     "text": [
      "0.09498000000000001\n"
     ]
    }
   ],
   "source": [
    "v63=0\n",
    "for i in range(len(tt63)):\n",
    "    for j in range(len(tt63[0])):\n",
    "        v63=v63+abs(((float(tt63[i][j])-float(x6[i]))*float(x3[j])))\n",
    "        #print(t63[i][j],x6[i],x3[j])\n",
    "print(v63)"
   ]
  },
  {
   "cell_type": "code",
   "execution_count": 19,
   "metadata": {},
   "outputs": [
    {
     "name": "stdout",
     "output_type": "stream",
     "text": [
      "[['0.804' '0.5710000000000001' '1.0' '0.794']\n",
      " ['0.021' '0.0' '0.0' '0.0']\n",
      " ['0.055999999999999994' '0.14300000000000002' '0.0' '0.0']\n",
      " ['0.11900000000000001' '0.28600000000000003' '0.0' '0.20600000000000002']]\n",
      "<class 'numpy.ndarray'>\n"
     ]
    }
   ],
   "source": [
    "tt14=[]\n",
    "for i in range (2,6):\n",
    "    tt14.append(table6[i])\n",
    "tt14=np.array(tt14)\n",
    "tt14=np.delete(tt14,0,1)\n",
    "print(tt14)\n",
    "t14=[[0 for row in range(len(tt14[0]))] for col in range(len(tt14))]\n",
    "for i in range(len(t14)):\n",
    "    for j in range(len(t14[0])):\n",
    "        t14[i][j]=float(tt14[i][j])\n",
    "t14=np.array(t14)\n",
    "print(type(t14))"
   ]
  },
  {
   "cell_type": "code",
   "execution_count": 20,
   "metadata": {},
   "outputs": [
    {
     "name": "stdout",
     "output_type": "stream",
     "text": [
      "0.11957\n"
     ]
    }
   ],
   "source": [
    "v14=0\n",
    "for i in range(len(tt14)):\n",
    "    for j in range(len(tt14[0])):\n",
    "        v14=v14+abs(((float(tt14[i][j])-float(x1[i]))*float(x4[j])))\n",
    "        #print(t14[i][j],x1[i],x4[j])\n",
    "print(v14)"
   ]
  },
  {
   "cell_type": "code",
   "execution_count": 21,
   "metadata": {},
   "outputs": [
    {
     "name": "stdout",
     "output_type": "stream",
     "text": [
      "[['0.308' '0.23800000000000002' '0.0' '0.17600000000000002']\n",
      " ['0.322' '0.28600000000000003' '1.0' '0.32299999999999995']\n",
      " ['0.027999999999999997' '0.0' '0.0' '0.028999999999999998']\n",
      " ['0.154' '0.19' '0.0' '0.23500000000000001']\n",
      " ['0.196' '0.28600000000000003' '0.0' '0.23500000000000001']]\n",
      "<class 'numpy.ndarray'>\n"
     ]
    }
   ],
   "source": [
    "tt24=[]\n",
    "for i in range (6,11):\n",
    "    tt24.append(table6[i])\n",
    "tt24=np.array(tt24)\n",
    "tt24=np.delete(tt24,0,1)\n",
    "print(tt24)\n",
    "t24=[[0 for row in range(len(tt24[0]))] for col in range(len(tt24))]\n",
    "for i in range(len(t24)):\n",
    "    for j in range(len(t24[0])):\n",
    "        t24[i][j]=float(tt24[i][j])\n",
    "t24=np.array(t24)\n",
    "print(type(t24))"
   ]
  },
  {
   "cell_type": "code",
   "execution_count": 22,
   "metadata": {},
   "outputs": [
    {
     "name": "stdout",
     "output_type": "stream",
     "text": [
      "0.11569999999999997\n"
     ]
    }
   ],
   "source": [
    "v24=0\n",
    "for i in range(len(tt24)):\n",
    "    for j in range(len(tt24[0])):\n",
    "        v24=v24+abs(((float(tt24[i][j])-float(x2[i]))*float(x4[j])))\n",
    "        #print(t24[i][j],x2[i],x4[j])\n",
    "print(v24)"
   ]
  },
  {
   "cell_type": "code",
   "execution_count": 23,
   "metadata": {},
   "outputs": [
    {
     "name": "stdout",
     "output_type": "stream",
     "text": [
      "[['0.021' '0.0' '0.0' '0.0']\n",
      " ['0.28' '0.5710000000000001' '0.0' '0.353']\n",
      " ['0.154' '0.14300000000000002' '0.0' '0.08800000000000001']\n",
      " ['0.329' '0.19' '0.5' '0.32299999999999995']\n",
      " ['0.217' '0.095' '0.5' '0.23500000000000001']]\n",
      "<class 'numpy.ndarray'>\n"
     ]
    }
   ],
   "source": [
    "tt64=[]\n",
    "for i in range (11,16):\n",
    "    tt64.append(table6[i])\n",
    "tt64=np.array(tt64)\n",
    "tt64=np.delete(tt64,0,1)\n",
    "print(tt64)\n",
    "t64=[[0 for row in range(len(tt64[0]))] for col in range(len(tt64))]\n",
    "for i in range(len(t64)):\n",
    "    for j in range(len(t64[0])):\n",
    "        t64[i][j]=float(tt64[i][j])\n",
    "t64=np.array(t64)\n",
    "print(type(t64))"
   ]
  },
  {
   "cell_type": "code",
   "execution_count": 24,
   "metadata": {},
   "outputs": [
    {
     "name": "stdout",
     "output_type": "stream",
     "text": [
      "0.14347\n"
     ]
    }
   ],
   "source": [
    "v64=0\n",
    "for i in range(len(tt64)):\n",
    "    for j in range(len(tt64[0])):\n",
    "        v64=v64+abs(((float(tt64[i][j])-float(x6[i]))*float(x4[j])))\n",
    "        #print(t64[i][j],x6[i],x4[j])\n",
    "print(v64)"
   ]
  },
  {
   "cell_type": "code",
   "execution_count": 25,
   "metadata": {},
   "outputs": [
    {
     "name": "stdout",
     "output_type": "stream",
     "text": [
      "[['0.307' '0.182' '0.28600000000000003' '0.268']\n",
      " ['0.29300000000000004' '0.318' '0.381' '0.329']\n",
      " ['0.04' '0.091' '0.0' '0.0']\n",
      " ['0.17300000000000001' '0.227' '0.19' '0.146']\n",
      " ['0.187' '0.182' '0.14300000000000002' '0.256']]\n",
      "<class 'numpy.ndarray'>\n"
     ]
    }
   ],
   "source": [
    "tt25=[]\n",
    "for i in range (2,7):\n",
    "    tt25.append(table7[i])\n",
    "tt25=np.array(tt25)\n",
    "tt25=np.delete(tt25,0,1)\n",
    "print(tt25)\n",
    "t25=[[0 for row in range(len(tt25[0]))] for col in range(len(tt25))]\n",
    "for i in range(len(t25)):\n",
    "    for j in range(len(t25[0])):\n",
    "        t25[i][j]=float(tt25[i][j])\n",
    "t25=np.array(t25)\n",
    "print(type(t25))"
   ]
  },
  {
   "cell_type": "code",
   "execution_count": 26,
   "metadata": {},
   "outputs": [
    {
     "name": "stdout",
     "output_type": "stream",
     "text": [
      "0.12939\n"
     ]
    }
   ],
   "source": [
    "v25=0\n",
    "for i in range(len(tt25)):\n",
    "    for j in range(len(tt25[0])):\n",
    "        v25=v25+abs(((float(tt25[i][j])-float(x2[i]))*float(x5[j])))\n",
    "        #print(t25[i][j],x2[i],x5[j])\n",
    "print(v25)"
   ]
  },
  {
   "cell_type": "code",
   "execution_count": 27,
   "metadata": {},
   "outputs": [
    {
     "name": "stdout",
     "output_type": "stream",
     "text": [
      "[['0.17300000000000001' '0.136' '0.381' '0.146']\n",
      " ['0.693' '0.682' '0.5710000000000001' '0.6459999999999999']\n",
      " ['0.133' '0.182' '0.048' '0.207']]\n",
      "<class 'numpy.ndarray'>\n"
     ]
    }
   ],
   "source": [
    "tt35=[]\n",
    "for i in range (7,10):\n",
    "    tt35.append(table7[i])\n",
    "tt35=np.array(tt35)\n",
    "tt35=np.delete(tt35,0,1)\n",
    "print(tt35)\n",
    "t35=[[0 for row in range(len(tt35[0]))] for col in range(len(tt35))]\n",
    "for i in range(len(t35)):\n",
    "    for j in range(len(t35[0])):\n",
    "        t35[i][j]=float(tt35[i][j])\n",
    "t35=np.array(t35)\n",
    "print(type(t35))"
   ]
  },
  {
   "cell_type": "code",
   "execution_count": 28,
   "metadata": {},
   "outputs": [
    {
     "name": "stdout",
     "output_type": "stream",
     "text": [
      "0.115965\n"
     ]
    }
   ],
   "source": [
    "v35=0\n",
    "for i in range(len(tt35)):\n",
    "    for j in range(len(tt35[0])):\n",
    "        v35=v35+abs(((float(tt35[i][j])-float(x3[i]))*float(x5[j])))\n",
    "        #print(t35[i][j],x3[i],x5[j])\n",
    "print(v35)"
   ]
  },
  {
   "cell_type": "code",
   "execution_count": 29,
   "metadata": {},
   "outputs": [
    {
     "name": "stdout",
     "output_type": "stream",
     "text": [
      "[['1.0' '0.687' '0.7140000000000001' '0.873' '0.809']\n",
      " ['0.0' '0.031000000000000003' '0.036000000000000004' '0.0' '0.0']\n",
      " ['0.0' '0.094' '0.036000000000000004' '0.032' '0.048']\n",
      " ['0.0' '0.187' '0.214' '0.095' '0.14300000000000002']]\n",
      "<class 'numpy.ndarray'>\n"
     ]
    }
   ],
   "source": [
    "tt16=[]\n",
    "for i in range (2,6):\n",
    "    tt16.append(table8[i])\n",
    "tt16=np.array(tt16)\n",
    "tt16=np.delete(tt16,0,1)\n",
    "print(tt16)\n",
    "t16=[[0 for row in range(len(tt16[0]))] for col in range(len(tt16))]\n",
    "for i in range(len(t16)):\n",
    "    for j in range(len(t16[0])):\n",
    "        t16[i][j]=float(tt16[i][j])\n",
    "t16=np.array(t16)\n",
    "print(type(t16))"
   ]
  },
  {
   "cell_type": "code",
   "execution_count": 30,
   "metadata": {},
   "outputs": [
    {
     "name": "stdout",
     "output_type": "stream",
     "text": [
      "0.16036999999999998\n"
     ]
    }
   ],
   "source": [
    "v16=0\n",
    "for i in range(len(tt16)):\n",
    "    for j in range(len(tt16[0])):\n",
    "        v16=v16+abs(((float(tt16[i][j])-float(x1[i]))*float(x6[j])))\n",
    "        #print(t16[i][j],x1[i],x6[j])\n",
    "print(v16)"
   ]
  },
  {
   "cell_type": "code",
   "execution_count": 31,
   "metadata": {},
   "outputs": [
    {
     "name": "stdout",
     "output_type": "stream",
     "text": [
      "[['0.0' '0.281' '0.214' '0.317' '0.262']\n",
      " ['0.33299999999999996' '0.29600000000000004' '0.392' '0.317' '0.309']\n",
      " ['0.0' '0.0' '0.0' '0.079' '0.0']\n",
      " ['0.6659999999999999' '0.23399999999999999' '0.142' '0.095' '0.167']\n",
      " ['0.0' '0.187' '0.25' '0.19' '0.262']]\n",
      "<class 'numpy.ndarray'>\n"
     ]
    }
   ],
   "source": [
    "tt26=[]\n",
    "for i in range (6,11):\n",
    "    tt26.append(table8[i])\n",
    "tt26=np.array(tt26)\n",
    "tt26=np.delete(tt26,0,1)\n",
    "print(tt26)\n",
    "t26=[[0 for row in range(len(tt26[0]))] for col in range(len(tt26))]\n",
    "for i in range(len(t26)):\n",
    "    for j in range(len(t26[0])):\n",
    "        t26[i][j]=float(tt26[i][j])\n",
    "t26=np.array(t26)\n",
    "print(type(t26))"
   ]
  },
  {
   "cell_type": "code",
   "execution_count": 32,
   "metadata": {},
   "outputs": [
    {
     "name": "stdout",
     "output_type": "stream",
     "text": [
      "0.175315\n"
     ]
    }
   ],
   "source": [
    "v26=0\n",
    "for i in range(len(tt26)):\n",
    "    for j in range(len(tt26[0])):\n",
    "        v26=v26+abs(((float(tt26[i][j])-float(x2[i]))*float(x6[j])))\n",
    "        #print(t26[i][j],x2[i],x6[j])\n",
    "print(v26)"
   ]
  },
  {
   "cell_type": "code",
   "execution_count": 33,
   "metadata": {},
   "outputs": [
    {
     "name": "stdout",
     "output_type": "stream",
     "text": [
      "[['0.0' '0.218' '0.107' '0.20600000000000002' '0.14300000000000002']\n",
      " ['1.0' '0.6559999999999999' '0.7140000000000001' '0.635' '0.643']\n",
      " ['0.0' '0.125' '0.179' '0.159' '0.214']]\n",
      "<class 'numpy.ndarray'>\n"
     ]
    }
   ],
   "source": [
    "tt36=[]\n",
    "for i in range (11,14):\n",
    "    tt36.append(table8[i])\n",
    "tt36=np.array(tt36)\n",
    "tt36=np.delete(tt36,0,1)\n",
    "print(tt36)\n",
    "t36=[[0 for row in range(len(tt36[0]))] for col in range(len(tt36))]\n",
    "for i in range(len(t36)):\n",
    "    for j in range(len(t36[0])):\n",
    "        t36[i][j]=float(tt36[i][j])\n",
    "t36=np.array(t36)\n",
    "print(type(t36))"
   ]
  },
  {
   "cell_type": "code",
   "execution_count": 34,
   "metadata": {},
   "outputs": [
    {
     "name": "stdout",
     "output_type": "stream",
     "text": [
      "0.09434000000000005\n"
     ]
    }
   ],
   "source": [
    "v36=0\n",
    "for i in range(len(tt36)):\n",
    "    for j in range(len(tt36[0])):\n",
    "        v36=v36+abs(((float(tt36[i][j])-float(x3[i]))*float(x6[j])))\n",
    "        #print(t36[i][j],x3[i],x6[j])\n",
    "print(v36)"
   ]
  },
  {
   "cell_type": "code",
   "execution_count": 35,
   "metadata": {},
   "outputs": [
    {
     "name": "stdout",
     "output_type": "stream",
     "text": [
      "[['1.0' '0.625' '0.7859999999999999' '0.746' '0.738']\n",
      " ['0.0' '0.187' '0.107' '0.063' '0.048']\n",
      " ['0.0' '0.0' '0.0' '0.016' '0.024']\n",
      " ['0.0' '0.187' '0.107' '0.17500000000000002' '0.19']]\n",
      "<class 'numpy.ndarray'>\n"
     ]
    }
   ],
   "source": [
    "tt46=[]\n",
    "for i in range (14,18):\n",
    "    tt46.append(table8[i])\n",
    "tt46=np.array(tt46)\n",
    "tt46=np.delete(tt46,0,1)\n",
    "print(tt46)\n",
    "t46=[[0 for row in range(len(tt46[0]))] for col in range(len(tt46))]\n",
    "for i in range(len(t46)):\n",
    "    for j in range(len(t46[0])):\n",
    "        t46[i][j]=float(tt46[i][j])\n",
    "t46=np.asarray(t46)\n",
    "print(type(t46))"
   ]
  },
  {
   "cell_type": "code",
   "execution_count": 36,
   "metadata": {},
   "outputs": [
    {
     "name": "stdout",
     "output_type": "stream",
     "text": [
      "0.14306999999999997\n"
     ]
    }
   ],
   "source": [
    "v46=0\n",
    "for i in range(len(tt46)):\n",
    "    for j in range(len(tt46[0])):\n",
    "        v46=v46+abs(((float(tt46[i][j])-float(x4[i]))*float(x6[j])))\n",
    "        #print(t46[i][j],x4[i],x6[j])\n",
    "print(v46)"
   ]
  },
  {
   "cell_type": "code",
   "execution_count": 37,
   "metadata": {},
   "outputs": [
    {
     "name": "stdout",
     "output_type": "stream",
     "text": [
      "x2/x1 0.15976999999999997\n",
      "x4/x1 0.11943\n",
      "x6/x1 0.16015500000000002\n",
      "x3/x2 0.21852500000000005\n",
      "x5/x2 0.12926000000000004\n",
      "x2/x3 0.21875799999999998\n",
      "x5/x3 0.11552000000000003\n",
      "x6/x3 0.09498000000000001\n",
      "x1/x4 0.11957\n",
      "x2/x4 0.11569999999999997\n",
      "x6/x4 0.14347\n",
      "x2/x5 0.11569999999999997\n",
      "x3/x5 0.14347\n",
      "x1/x6 0.16036999999999998\n",
      "x2/x6 0.175315\n",
      "x3/x6 0.09434000000000005\n",
      "x4/x6 0.14306999999999997\n"
     ]
    }
   ],
   "source": [
    "# CORELATIONS IN TASK 1\n",
    "print(\"x2/x1\",v21)\n",
    "print(\"x4/x1\",v41)\n",
    "print(\"x6/x1\",v61)\n",
    "print(\"x3/x2\",v32)\n",
    "print(\"x5/x2\",v52)\n",
    "print(\"x2/x3\",v23)\n",
    "print(\"x5/x3\",v53)\n",
    "print(\"x6/x3\",v63)\n",
    "print(\"x1/x4\",v14)\n",
    "print(\"x2/x4\",v24)\n",
    "print(\"x6/x4\",v64)\n",
    "print(\"x2/x5\",v24)\n",
    "print(\"x3/x5\",v64)\n",
    "print(\"x1/x6\",v16)\n",
    "print(\"x2/x6\",v26)\n",
    "print(\"x3/x6\",v36)\n",
    "print(\"x4/x6\",v46)"
   ]
  },
  {
   "cell_type": "code",
   "execution_count": 38,
   "metadata": {},
   "outputs": [
    {
     "name": "stdout",
     "output_type": "stream",
     "text": [
      "[[0.737 1.    0.727 0.567]\n",
      " [0.077 0.    0.273 0.2  ]\n",
      " [0.013 0.    0.    0.   ]\n",
      " [0.173 0.    0.    0.233]]\n"
     ]
    }
   ],
   "source": [
    "print(t41)"
   ]
  },
  {
   "cell_type": "code",
   "execution_count": 50,
   "metadata": {},
   "outputs": [],
   "source": [
    "# CREATE TABULAR CPDS FOR ALL 17 CORELATIONS\n",
    "from pgmpy.factors.discrete import TabularCPD\n",
    "cpd_21 = TabularCPD(variable='X2', variable_card=5, \n",
    "                   values=[[0.231, 0.666, 0.455, 0.4], \n",
    "                           [0.365, 0.0, 0.091, 0.2],\n",
    "                           [0.026, 0.0, 0.0, 0.033],\n",
    "                           [0.173, 0.0, 0.182, 0.167],\n",
    "                           [0.205, 0.333, 0.273, 0.2]], \n",
    "                    evidence=['X1'], \n",
    "                    evidence_card=[4])\n",
    "cpd_41 = TabularCPD(variable='X4', variable_card=4, \n",
    "                   values=[[0.737, 1.0, 0.727, 0.567], \n",
    "                           [0.077, 0.0, 0.273, 0.2],\n",
    "                           [0.013, 0.0, 0.0, 0.0],\n",
    "                           [0.173, 0.0, 0.0, 0.233]], \n",
    "                    evidence=['X1'], \n",
    "                    evidence_card=[4])\n",
    "cpd_61 = TabularCPD(variable='X6', variable_card=5, \n",
    "                   values=[[0.019, 0.0, 0.0, 0.0], \n",
    "                           [0.282, 0.666, 0.545, 0.4],\n",
    "                           [0.128, 0.333, 0.091, 0.2],\n",
    "                           [0.352, 0.0, 0.182, 0.2],\n",
    "                           [0.218, 0.0, 0.182, 0.2]], \n",
    "                    evidence=['X1'], \n",
    "                    evidence_card=[4])\n",
    "cpd_32 = TabularCPD(variable='X3', variable_card=3, \n",
    "                   values=[[0.127, 0.266, 0.2, 0.176, 0.119], \n",
    "                           [0.745, 0.656, 0.8, 0.706, 0.5],\n",
    "                           [0.127, 0.078, 0.0, 0.118, 0.381]], \n",
    "                    evidence=['X2'], \n",
    "                    evidence_card=[5])\n",
    "cpd_52 = TabularCPD(variable='X5', variable_card=4, \n",
    "                   values=[[0.418, 0.344, 0.6, 0.382, 0.334], \n",
    "                           [0.073, 0.109, 0.4, 0.147, 0.095],\n",
    "                           [0.109, 0.125, 0.0, 0.118, 0.071],\n",
    "                           [0.4, 0.422, 0.0, 0.353, 0.5]], \n",
    "                    evidence=['X2'], \n",
    "                    evidence_card=[5])\n",
    "cpd_23 = TabularCPD(variable='X2', variable_card=5, \n",
    "                   values=[[0.194, 0.311, 0.219], \n",
    "                           [0.472, 0.318, 0.156],\n",
    "                           [0.028, 0.0303, 0.0],\n",
    "                           [0.167, 0.182, 0.125],\n",
    "                           [0.139, 0.159, 0.5]], \n",
    "                    evidence=['X3'], \n",
    "                    evidence_card=[3])\n",
    "cpd_53 = TabularCPD(variable='X5', variable_card=4, \n",
    "                   values=[[0.361, 0.392, 0.313], \n",
    "                           [0.083, 0.114, 0.125],\n",
    "                           [0.222, 0.091, 0.031],\n",
    "                           [0.333, 0.402, 0.531]], \n",
    "                    evidence=['X3'], \n",
    "                    evidence_card=[3])\n",
    "cpd_63 = TabularCPD(variable='X6', variable_card=5, \n",
    "                   values=[[0.0, 0.023, 0.0], \n",
    "                           [0.389, 0.318, 0.25],\n",
    "                           [0.083, 0.152, 0.156],\n",
    "                           [0.361, 0.303, 0.313],\n",
    "                           [0.167, 0.205, 0.281]], \n",
    "                    evidence=['X3'], \n",
    "                    evidence_card=[3])\n",
    "cpd_14 = TabularCPD(variable='X1', variable_card=4, \n",
    "                   values=[[0.804, 0.571, 1.0, 0.794], \n",
    "                           [0.021, 0.0, 0.0, 0.0],\n",
    "                           [0.056, 0.143, 0.0, 0.0],\n",
    "                           [0.119, 0.286, 0.0, 0.206]], \n",
    "                    evidence=['X4'], \n",
    "                    evidence_card=[4])\n",
    "cpd_24 = TabularCPD(variable='X2', variable_card=5, \n",
    "                   values=[[0.308, 0.238, 0.0, 0.176],\n",
    "                           [0.322, 0.286, 1.0, 0.323],\n",
    "                           [0.028, 0.0, 0.0, 0.029],\n",
    "                           [0.154, 0.19, 0.0, 0.235],\n",
    "                           [0.196, 0.286, 0.0, 0.235]], \n",
    "                    evidence=['X4'], \n",
    "                    evidence_card=[4])\n",
    "cpd_64 = TabularCPD(variable='X6', variable_card=5, \n",
    "                   values=[[0.021, 0.0, 0.0, 0.0],\n",
    "                           [0.28, 0.571, 0.0, 0.353],\n",
    "                           [0.154, 0.143, 0.0, 0.088],\n",
    "                           [0.329, 0.19, 0.5, 0.323],\n",
    "                           [0.217, 0.095, 0.5, 0.235]], \n",
    "                    evidence=['X4'], \n",
    "                    evidence_card=[4])\n",
    "cpd_25 = TabularCPD(variable='X2', variable_card=5, \n",
    "                   values=[[0.307, 0.182, 0.286, 0.268],\n",
    "                           [0.293, 0.318, 0.381, 0.329],\n",
    "                           [0.04, 0.091, 0.0, 0.0],\n",
    "                           [0.173, 0.227, 0.19, 0.146],\n",
    "                           [0.187, 0.182, 0.143, 0.256]], \n",
    "                    evidence=['X5'], \n",
    "                    evidence_card=[4])\n",
    "cpd_35 = TabularCPD(variable='X3', variable_card=3, \n",
    "                   values=[[0.173, 0.136, 0.381, 0.146],\n",
    "                           [0.693, 0.682, 0.571, 0.646],\n",
    "                           [0.133, 0.182, 0.048, 0.207]], \n",
    "                    evidence=['X5'], \n",
    "                    evidence_card=[4])\n",
    "cpd_16 = TabularCPD(variable='X1', variable_card=4, \n",
    "                   values=[[1.0, 0.687, 0.714, 0.873, 0.809], \n",
    "                           [0.0, 0.031, 0.036, 0.0 , 0.0 ],\n",
    "                           [0.0, 0.094, 0.036, 0.032, 0.048],\n",
    "                           [0.0, 0.187, 0.214, 0.095, 0.143]], \n",
    "                    evidence=['X6'], \n",
    "                    evidence_card=[5])\n",
    "cpd_26 = TabularCPD(variable='X2', variable_card=5, \n",
    "                   values=[[0.0, 0.281, 0.214, 0.317, 0.262], \n",
    "                           [0.333, 0.296, 0.392, 0.317, 0.309 ],\n",
    "                           [0.0, 0.0, 0.0, 0.079, 0.0],\n",
    "                           [0.666, 0.234, 0.142, 0.095, 0.167],\n",
    "                           [0.0, 0.187, 0.25, 0.19, 0.262]], \n",
    "                    evidence=['X6'], \n",
    "                    evidence_card=[5])\n",
    "cpd_36 = TabularCPD(variable='X3', variable_card=3, \n",
    "                   values=[[0.0, 0.218, 0.107, 0.206, 0.143], \n",
    "                           [1.0, 0.656, 0.714, 0.635, 0.643 ],\n",
    "                           [0.0, 0.125, 0.179, 0.159, 0.214]], \n",
    "                    evidence=['X6'], \n",
    "                    evidence_card=[5])\n",
    "cpd_46 = TabularCPD(variable='X4', variable_card=4, \n",
    "                   values=[[1.0, 0.625, 0.786, 0.746, 0.738],\n",
    "                           [0.0, 0.187, 0.107, 0.063, 0.048],\n",
    "                           [0.0, 0.0, 0.0, 0.016, 0.024 ],\n",
    "                           [0.0, 0.187, 0.107, 0.175, 0.19]], \n",
    "                    evidence=['X6'], \n",
    "                    evidence_card=[5])\n",
    "cpd_1 = TabularCPD(variable='X1', variable_card=4, \n",
    "                   values=[[0.78],\n",
    "                           [0.015],\n",
    "                           [0.055],\n",
    "                           [0.15]])\n",
    "cpd_2 = TabularCPD(variable='X2', variable_card=5, \n",
    "                   values=[[0.275],\n",
    "                           [0.32],\n",
    "                           [0.025],\n",
    "                           [0.17],\n",
    "                           [0.21]])\n",
    "cpd_3 = TabularCPD(variable='X3', variable_card=3, \n",
    "                   values=[[0.18],\n",
    "                           [0.66],\n",
    "                           [0.16]])\n",
    "cpd_4 = TabularCPD(variable='X4', variable_card=4, \n",
    "                   values=[[0.715],\n",
    "                           [0.105],\n",
    "                           [0.01],\n",
    "                           [0.17]])\n",
    "cpd_5 = TabularCPD(variable='X5', variable_card=4, \n",
    "                   values=[[0.375],\n",
    "                           [0.11],\n",
    "                           [0.105],\n",
    "                           [0.41000000000000003]])\n",
    "cpd_6 = TabularCPD(variable='X6', variable_card=5, \n",
    "                   values=[[0.015],\n",
    "                           [0.32],\n",
    "                           [0.14],\n",
    "                           [0.315],\n",
    "                           [0.21]])"
   ]
  },
  {
   "cell_type": "code",
   "execution_count": 40,
   "metadata": {},
   "outputs": [
    {
     "name": "stdout",
     "output_type": "stream",
     "text": [
      "Model 1 K2 Score: -6456.586558369553\n"
     ]
    }
   ],
   "source": [
    "import pandas as pd\n",
    "import numpy as np\n",
    "from pgmpy.estimators import K2Score\n",
    "from pgmpy.models import BayesianModel\n",
    "from pgmpy.sampling import BayesianModelSampling\n",
    "\n",
    "model1 = BayesianModel([('X6', 'X4'), ('X6', 'X1'), ('X1', 'X2'), ('X2', 'X3'), ('X2', 'X5')])\n",
    "model1.add_cpds(cpd_46,cpd_16,cpd_21,cpd_32,cpd_52,cpd_6)\n",
    "data1 = BayesianModelSampling(model1)\n",
    "inference1 = data1.forward_sample(size=1000, return_type='DataFrame')\n",
    "model1k2 = K2Score(inference1)\n",
    "print('Model 1 K2 Score: ' + str(model1k2.score(model1)))\n"
   ]
  },
  {
   "cell_type": "code",
   "execution_count": 41,
   "metadata": {},
   "outputs": [
    {
     "name": "stdout",
     "output_type": "stream",
     "text": [
      "Model 2 K2 Score: -6545.996591326802\n"
     ]
    }
   ],
   "source": [
    "model2 = BayesianModel([('X1', 'X2'), ('X2', 'X5'), ('X1', 'X6'), ('X6', 'X4'), ('X6', 'X3')])\n",
    "model2.add_cpds(cpd_21,cpd_52,cpd_61,cpd_46,cpd_36,cpd_1)\n",
    "data2 = BayesianModelSampling(model2)\n",
    "inference2 = data2.forward_sample(size=1000, return_type='DataFrame')\n",
    "model2k2 = K2Score(inference2)\n",
    "print('Model 2 K2 Score: ' + str(model2k2.score(model2)))\n"
   ]
  },
  {
   "cell_type": "markdown",
   "metadata": {},
   "source": [
    "### TASK 4"
   ]
  },
  {
   "cell_type": "markdown",
   "metadata": {},
   "source": [
    "###### CREATING MODELS ARBITRARLY"
   ]
  },
  {
   "cell_type": "code",
   "execution_count": 42,
   "metadata": {},
   "outputs": [
    {
     "name": "stdout",
     "output_type": "stream",
     "text": [
      "Model 1 K2 Score: -9790.86039003911\n",
      "Model 1 K2 Score: -9776.902065989794\n"
     ]
    }
   ],
   "source": [
    "mod1 = BayesianModel([('f1', 'f5'), ('f2', 'f3'), ('f8', 'f4'), ('f7', 'f6'), ('f8', 'f9')]) \n",
    "mod2 = BayesianModel([('f5', 'f1'), ('f3', 'f2'), ('f4', 'f8'), ('f6', 'f7'), ('f9', 'f8')]) \n",
    "\n",
    "anddata = pd.read_csv(\"AND-Features(1).csv\") \n",
    "andk2 = K2Score(anddata)\n",
    "print('Model 1 K2 Score: ' + str(andk2.score(mod1)))\n",
    "print('Model 1 K2 Score: ' + str(andk2.score(mod2)))"
   ]
  },
  {
   "cell_type": "markdown",
   "metadata": {},
   "source": [
    "###### CREATING MODEL USING HILLCLIMB SEARCH TO GET THE MODEL WITH BEST K2 SCORE"
   ]
  },
  {
   "cell_type": "code",
   "execution_count": 43,
   "metadata": {},
   "outputs": [],
   "source": [
    "hilldata = pd.read_csv(\"AND-Features(1).csv\") \n",
    "hilldata = np.array(hilldata)\n",
    "hilldata = np.delete(hilldata,0,1)\n",
    "hilldata = np.delete(hilldata,0,1)\n",
    "#print((hilldata))\n",
    "hilldata = pd.DataFrame(hilldata,columns=list('abcdefghi'))"
   ]
  },
  {
   "cell_type": "code",
   "execution_count": 44,
   "metadata": {},
   "outputs": [
    {
     "name": "stdout",
     "output_type": "stream",
     "text": [
      "[('c', 'd'), ('c', 'i'), ('c', 'h'), ('e', 'i'), ('e', 'c'), ('i', 'h'), ('i', 'g'), ('i', 'a'), ('i', 'f'), ('i', 'b'), ('i', 'd')]\n",
      "Model 1 K2 Score: -9462.704892371388\n"
     ]
    }
   ],
   "source": [
    "from pgmpy.estimators import HillClimbSearch\n",
    "\n",
    "hc = HillClimbSearch(hilldata, scoring_method=K2Score(hilldata))\n",
    "best_model = hc.estimate()\n",
    "print(best_model.edges())\n",
    "\n",
    "K2_SCORE=K2Score(hilldata)\n",
    "print('Model 1 K2 Score: ' + str(K2_SCORE.score(best_model)))"
   ]
  },
  {
   "cell_type": "code",
   "execution_count": 45,
   "metadata": {},
   "outputs": [
    {
     "name": "stdout",
     "output_type": "stream",
     "text": [
      "+------+---------------------+---------------------+\n",
      "| i    | i(1)                | i(2)                |\n",
      "+------+---------------------+---------------------+\n",
      "| a(0) | 0.19913419913419914 | 0.10709838107098381 |\n",
      "+------+---------------------+---------------------+\n",
      "| a(1) | 0.4458874458874459  | 0.2602739726027397  |\n",
      "+------+---------------------+---------------------+\n",
      "| a(2) | 0.26406926406926406 | 0.3686176836861768  |\n",
      "+------+---------------------+---------------------+\n",
      "| a(3) | 0.09090909090909091 | 0.2640099626400996  |\n",
      "+------+---------------------+---------------------+\n",
      "+------+----------------------+----------------------+\n",
      "| i    | i(1)                 | i(2)                 |\n",
      "+------+----------------------+----------------------+\n",
      "| b(0) | 0.14655172413793102  | 0.1865671641791045   |\n",
      "+------+----------------------+----------------------+\n",
      "| b(1) | 0.6163793103448276   | 0.48383084577114427  |\n",
      "+------+----------------------+----------------------+\n",
      "| b(2) | 0.14655172413793102  | 0.12686567164179105  |\n",
      "+------+----------------------+----------------------+\n",
      "| b(3) | 0.017241379310344827 | 0.012437810945273632 |\n",
      "+------+----------------------+----------------------+\n",
      "| b(4) | 0.07327586206896551  | 0.19029850746268656  |\n",
      "+------+----------------------+----------------------+\n",
      "+------+---------------------+----------------------+----------------------+-------+\n",
      "| e    | e(0)                | e(1)                 | e(2)                 | e(3)  |\n",
      "+------+---------------------+----------------------+----------------------+-------+\n",
      "| c(0) | 0.20967741935483872 | 0.024390243902439025 | 0.11823899371069183  | 0.125 |\n",
      "+------+---------------------+----------------------+----------------------+-------+\n",
      "| c(1) | 0.7419354838709677  | 0.9512195121951219   | 0.8528301886792453   | 0.375 |\n",
      "+------+---------------------+----------------------+----------------------+-------+\n",
      "| c(2) | 0.04838709677419355 | 0.024390243902439025 | 0.028930817610062894 | 0.5   |\n",
      "+------+---------------------+----------------------+----------------------+-------+\n",
      "+------+---------------------+----------------------+-------+----------------------+---------------------+---------------------+\n",
      "| c    | c(0)                | c(0)                 | c(1)  | c(1)                 | c(2)                | c(2)                |\n",
      "+------+---------------------+----------------------+-------+----------------------+---------------------+---------------------+\n",
      "| i    | i(1)                | i(2)                 | i(1)  | i(2)                 | i(1)                | i(2)                |\n",
      "+------+---------------------+----------------------+-------+----------------------+---------------------+---------------------+\n",
      "| d(0) | 0.12903225806451613 | 0.18018018018018017  | 0.36  | 0.391304347826087    | 0.18181818181818182 | 0.05555555555555555 |\n",
      "+------+---------------------+----------------------+-------+----------------------+---------------------+---------------------+\n",
      "| d(1) | 0.5161290322580645  | 0.15315315315315314  | 0.285 | 0.1889055472263868   | 0.2727272727272727  | 0.16666666666666666 |\n",
      "+------+---------------------+----------------------+-------+----------------------+---------------------+---------------------+\n",
      "| d(2) | 0.22580645161290322 | 0.4954954954954955   | 0.08  | 0.049475262368815595 | 0.09090909090909091 | 0.05555555555555555 |\n",
      "+------+---------------------+----------------------+-------+----------------------+---------------------+---------------------+\n",
      "| d(3) | 0.0967741935483871  | 0.13513513513513514  | 0.265 | 0.3583208395802099   | 0.09090909090909091 | 0.3055555555555556  |\n",
      "+------+---------------------+----------------------+-------+----------------------+---------------------+---------------------+\n",
      "| d(4) | 0.03225806451612903 | 0.036036036036036036 | 0.01  | 0.01199400299850075  | 0.36363636363636365 | 0.4166666666666667  |\n",
      "+------+---------------------+----------------------+-------+----------------------+---------------------+---------------------+\n",
      "+------+-----------+\n",
      "| e(0) | 0.178641  |\n",
      "+------+-----------+\n",
      "| e(1) | 0.0378641 |\n",
      "+------+-----------+\n",
      "| e(2) | 0.769903  |\n",
      "+------+-----------+\n",
      "| e(3) | 0.0135922 |\n",
      "+------+-----------+\n",
      "+------+----------------------+---------------------+\n",
      "| i    | i(1)                 | i(2)                |\n",
      "+------+----------------------+---------------------+\n",
      "| f(0) | 0.008658008658008658 | 0.0186799501867995  |\n",
      "+------+----------------------+---------------------+\n",
      "| f(1) | 0.31601731601731603  | 0.16936488169364883 |\n",
      "+------+----------------------+---------------------+\n",
      "| f(2) | 0.5887445887445888   | 0.6027397260273972  |\n",
      "+------+----------------------+---------------------+\n",
      "| f(3) | 0.08658008658008658  | 0.20921544209215442 |\n",
      "+------+----------------------+---------------------+\n",
      "+------+---------------------+---------------------+\n",
      "| i    | i(1)                | i(2)                |\n",
      "+------+---------------------+---------------------+\n",
      "| g(0) | 0.2510822510822511  | 0.526774595267746   |\n",
      "+------+---------------------+---------------------+\n",
      "| g(1) | 0.46320346320346323 | 0.30759651307596514 |\n",
      "+------+---------------------+---------------------+\n",
      "| g(2) | 0.23376623376623376 | 0.0448318804483188  |\n",
      "+------+---------------------+---------------------+\n",
      "| g(3) | 0.05194805194805195 | 0.12079701120797011 |\n",
      "+------+---------------------+---------------------+\n",
      "+------+---------------------+---------------------+-------+---------------------+---------------------+----------------------+\n",
      "| c    | c(0)                | c(0)                | c(1)  | c(1)                | c(2)                | c(2)                 |\n",
      "+------+---------------------+---------------------+-------+---------------------+---------------------+----------------------+\n",
      "| i    | i(1)                | i(2)                | i(1)  | i(2)                | i(1)                | i(2)                 |\n",
      "+------+---------------------+---------------------+-------+---------------------+---------------------+----------------------+\n",
      "| h(0) | 0.1935483870967742  | 0.16216216216216217 | 0.17  | 0.18140929535232383 | 0.09090909090909091 | 0.027777777777777776 |\n",
      "+------+---------------------+---------------------+-------+---------------------+---------------------+----------------------+\n",
      "| h(1) | 0.2903225806451613  | 0.11711711711711711 | 0.375 | 0.20839580209895053 | 0.45454545454545453 | 0.1111111111111111   |\n",
      "+------+---------------------+---------------------+-------+---------------------+---------------------+----------------------+\n",
      "| h(2) | 0.3870967741935484  | 0.2072072072072072  | 0.41  | 0.19940029985007496 | 0.2727272727272727  | 0.4166666666666667   |\n",
      "+------+---------------------+---------------------+-------+---------------------+---------------------+----------------------+\n",
      "| h(3) | 0.03225806451612903 | 0.4144144144144144  | 0.015 | 0.2353823088455772  | 0.09090909090909091 | 0.2777777777777778   |\n",
      "+------+---------------------+---------------------+-------+---------------------+---------------------+----------------------+\n",
      "| h(4) | 0.0967741935483871  | 0.0990990990990991  | 0.03  | 0.17541229385307347 | 0.09090909090909091 | 0.16666666666666666  |\n",
      "+------+---------------------+---------------------+-------+---------------------+---------------------+----------------------+\n",
      "+------+------+------+----------------------+--------------------+---------------------+------+---------------------+--------------------+------+------+-------+--------------------+\n",
      "| c    | c(0) | c(0) | c(0)                 | c(0)               | c(1)                | c(1) | c(1)                | c(1)               | c(2) | c(2) | c(2)  | c(2)               |\n",
      "+------+------+------+----------------------+--------------------+---------------------+------+---------------------+--------------------+------+------+-------+--------------------+\n",
      "| e    | e(0) | e(1) | e(2)                 | e(3)               | e(0)                | e(1) | e(2)                | e(3)               | e(0) | e(1) | e(2)  | e(3)               |\n",
      "+------+------+------+----------------------+--------------------+---------------------+------+---------------------+--------------------+------+------+-------+--------------------+\n",
      "| i(1) | 0.65 | 0.5  | 0.021052631578947368 | 0.3333333333333333 | 0.5179856115107914  | 0.05 | 0.18114874815905743 | 0.2857142857142857 | 0.3  | 0.5  | 0.125 | 0.3333333333333333 |\n",
      "+------+------+------+----------------------+--------------------+---------------------+------+---------------------+--------------------+------+------+-------+--------------------+\n",
      "| i(2) | 0.35 | 0.5  | 0.9789473684210527   | 0.6666666666666666 | 0.48201438848920863 | 0.95 | 0.8188512518409425  | 0.7142857142857143 | 0.7  | 0.5  | 0.875 | 0.6666666666666666 |\n",
      "+------+------+------+----------------------+--------------------+---------------------+------+---------------------+--------------------+------+------+-------+--------------------+\n"
     ]
    }
   ],
   "source": [
    "from pgmpy.estimators import BayesianEstimator\n",
    "est = BayesianEstimator(best_model, hilldata)\n",
    "print(est.estimate_cpd('a', prior_type='K2', equivalent_sample_size=5))\n",
    "print(est.estimate_cpd('b', prior_type='K2', equivalent_sample_size=5))\n",
    "print(est.estimate_cpd('c', prior_type='K2', equivalent_sample_size=5))\n",
    "print(est.estimate_cpd('d', prior_type='K2', equivalent_sample_size=5))\n",
    "print(est.estimate_cpd('e', prior_type='K2', equivalent_sample_size=5))\n",
    "print(est.estimate_cpd('f', prior_type='K2', equivalent_sample_size=5))\n",
    "print(est.estimate_cpd('g', prior_type='K2', equivalent_sample_size=5))\n",
    "print(est.estimate_cpd('h', prior_type='K2', equivalent_sample_size=5))\n",
    "print(est.estimate_cpd('i', prior_type='K2', equivalent_sample_size=5))"
   ]
  },
  {
   "cell_type": "markdown",
   "metadata": {},
   "source": [
    "### TASK 3\n"
   ]
  },
  {
   "cell_type": "code",
   "execution_count": 46,
   "metadata": {},
   "outputs": [
    {
     "name": "stdout",
     "output_type": "stream",
     "text": [
      "th-Markov model nodes :\n",
      "['X6', 'X4', 'X1', 'X2', 'X3', 'X5']\n",
      "th-Bayesian model nodes :\n",
      "['X6', 'X4', 'X1', 'X2', 'X3', 'X5']\n",
      "th-Markov model edges :\n",
      "[('X6', 'X4'), ('X6', 'X1'), ('X1', 'X2'), ('X2', 'X3'), ('X2', 'X5')]\n",
      "th-Bayesian model edges :\n",
      "[('X6', 'X4'), ('X6', 'X1'), ('X1', 'X2'), ('X2', 'X3'), ('X2', 'X5')]\n"
     ]
    }
   ],
   "source": [
    "th_model = model1.to_markov_model()\n",
    "th_node = th_model.nodes()\n",
    "model1node = model1.nodes()\n",
    "print('th-Markov model nodes :')\n",
    "print(th_node)\n",
    "print('th-Bayesian model nodes :')\n",
    "print(model1node)\n",
    "th_edges = th_model.edges()\n",
    "model1edge = model1.edges()\n",
    "print('th-Markov model edges :') \n",
    "print(th_edges)\n",
    "print('th-Bayesian model edges :') \n",
    "print(model1edge)"
   ]
  },
  {
   "cell_type": "code",
   "execution_count": 47,
   "metadata": {},
   "outputs": [
    {
     "name": "stdout",
     "output_type": "stream",
     "text": [
      "and-Markov model nodes :\n",
      "['f1', 'f5', 'f2', 'f3', 'f8', 'f4', 'f9', 'f7', 'f6']\n",
      "and-Bayesian model nodes :\n",
      "['f1', 'f5', 'f2', 'f3', 'f8', 'f4', 'f7', 'f6', 'f9']\n",
      "and-Markov model edges :\n",
      "[('f1', 'f5'), ('f2', 'f3'), ('f8', 'f4'), ('f8', 'f9'), ('f7', 'f6')]\n",
      "and-Bayesian model edges :\n",
      "[('f1', 'f5'), ('f2', 'f3'), ('f8', 'f4'), ('f8', 'f9'), ('f7', 'f6')]\n"
     ]
    }
   ],
   "source": [
    "and_model = mod1.to_markov_model()\n",
    "and_node = and_model.nodes() \n",
    "print('and-Markov model nodes :')\n",
    "print(and_node)\n",
    "print('and-Bayesian model nodes :') \n",
    "print(mod1.nodes())\n",
    "and_edges = and_model.edges()\n",
    "print('and-Markov model edges :') \n",
    "print(and_edges)\n",
    "print('and-Bayesian model edges :') \n",
    "print(mod1.edges())"
   ]
  },
  {
   "cell_type": "code",
   "execution_count": 49,
   "metadata": {},
   "outputs": [
    {
     "name": "stdout",
     "output_type": "stream",
     "text": [
      "+------+-----------+\n",
      "| X1   |   phi(X1) |\n",
      "+======+===========+\n",
      "| X1_0 |    0.7800 |\n",
      "+------+-----------+\n",
      "| X1_1 |    0.0149 |\n",
      "+------+-----------+\n",
      "| X1_2 |    0.0553 |\n",
      "+------+-----------+\n",
      "| X1_3 |    0.1498 |\n",
      "+------+-----------+\n",
      "+------+-----------+\n",
      "| X2   |   phi(X2) |\n",
      "+======+===========+\n",
      "| X2_0 |    0.2750 |\n",
      "+------+-----------+\n",
      "| X2_1 |    0.3198 |\n",
      "+------+-----------+\n",
      "| X2_2 |    0.0252 |\n",
      "+------+-----------+\n",
      "| X2_3 |    0.1701 |\n",
      "+------+-----------+\n",
      "| X2_4 |    0.2100 |\n",
      "+------+-----------+\n",
      "+------+-----------+\n",
      "| X3   |   phi(X3) |\n",
      "+======+===========+\n",
      "| X3_0 |    0.1800 |\n",
      "+------+-----------+\n",
      "| X3_1 |    0.6601 |\n",
      "+------+-----------+\n",
      "| X3_2 |    0.1600 |\n",
      "+------+-----------+\n",
      "+------+-----------+\n",
      "| X4   |   phi(X4) |\n",
      "+======+===========+\n",
      "| X4_0 |    0.7153 |\n",
      "+------+-----------+\n",
      "| X4_1 |    0.1048 |\n",
      "+------+-----------+\n",
      "| X4_2 |    0.0101 |\n",
      "+------+-----------+\n",
      "| X4_3 |    0.1699 |\n",
      "+------+-----------+\n",
      "+------+-----------+\n",
      "| X5   |   phi(X5) |\n",
      "+======+===========+\n",
      "| X5_0 |    0.3752 |\n",
      "+------+-----------+\n",
      "| X5_1 |    0.1100 |\n",
      "+------+-----------+\n",
      "| X5_2 |    0.1049 |\n",
      "+------+-----------+\n",
      "| X5_3 |    0.4099 |\n",
      "+------+-----------+\n",
      "+------+-----------+\n",
      "| X6   |   phi(X6) |\n",
      "+======+===========+\n",
      "| X6_0 |    0.0150 |\n",
      "+------+-----------+\n",
      "| X6_1 |    0.3196 |\n",
      "+------+-----------+\n",
      "| X6_2 |    0.1401 |\n",
      "+------+-----------+\n",
      "| X6_3 |    0.3152 |\n",
      "+------+-----------+\n",
      "| X6_4 |    0.2101 |\n",
      "+------+-----------+\n"
     ]
    },
    {
     "name": "stderr",
     "output_type": "stream",
     "text": [
      "C:\\Users\\aishw\\Anaconda3\\lib\\site-packages\\pgmpy\\factors\\discrete\\DiscreteFactor.py:598: FutureWarning: Using a non-tuple sequence for multidimensional indexing is deprecated; use `arr[tuple(seq)]` instead of `arr[seq]`. In the future this will be interpreted as an array index, `arr[np.array(seq)]`, which will result either in an error or a different result.\n",
      "  phi1.values = phi1.values[slice_]\n",
      "C:\\Users\\aishw\\Anaconda3\\lib\\site-packages\\pgmpy\\factors\\discrete\\DiscreteFactor.py:586: FutureWarning: Using a non-tuple sequence for multidimensional indexing is deprecated; use `arr[tuple(seq)]` instead of `arr[seq]`. In the future this will be interpreted as an array index, `arr[np.array(seq)]`, which will result either in an error or a different result.\n",
      "  phi.values = phi.values[slice_]\n"
     ]
    }
   ],
   "source": [
    "# PERFORMING VARIABLE ELIMINATION FOR MODEL ONE OF 'TH' DATA-SET\n",
    "from pgmpy.inference import VariableElimination\n",
    "infer = VariableElimination(model1)\n",
    "print(infer.query(['X1']) ['X1'])\n",
    "print(infer.query(['X2']) ['X2'])\n",
    "print(infer.query(['X3']) ['X3'])\n",
    "print(infer.query(['X4']) ['X4'])\n",
    "print(infer.query(['X5']) ['X5'])\n",
    "print(infer.query(['X6']) ['X6'])"
   ]
  },
  {
   "cell_type": "code",
   "execution_count": null,
   "metadata": {},
   "outputs": [],
   "source": [
    "\n"
   ]
  },
  {
   "cell_type": "code",
   "execution_count": null,
   "metadata": {},
   "outputs": [],
   "source": []
  },
  {
   "cell_type": "code",
   "execution_count": null,
   "metadata": {},
   "outputs": [],
   "source": []
  },
  {
   "cell_type": "code",
   "execution_count": null,
   "metadata": {},
   "outputs": [],
   "source": []
  },
  {
   "cell_type": "code",
   "execution_count": null,
   "metadata": {},
   "outputs": [],
   "source": []
  }
 ],
 "metadata": {
  "kernelspec": {
   "display_name": "Python 3",
   "language": "python",
   "name": "python3"
  },
  "language_info": {
   "codemirror_mode": {
    "name": "ipython",
    "version": 3
   },
   "file_extension": ".py",
   "mimetype": "text/x-python",
   "name": "python",
   "nbconvert_exporter": "python",
   "pygments_lexer": "ipython3",
   "version": "3.7.0"
  }
 },
 "nbformat": 4,
 "nbformat_minor": 2
}
